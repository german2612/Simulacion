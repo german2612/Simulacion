{
 "cells": [
  {
   "cell_type": "code",
   "execution_count": 1,
   "metadata": {
    "collapsed": false
   },
   "outputs": [
    {
     "name": "stdout",
     "output_type": "stream",
     "text": [
      "Ingrese el valor de la semilla: 7\n",
      "Ingrese el valor de la constante multiplicativa: 5\n",
      "Ingrese el valor de la constante aditiva: 3\n",
      "Valor estimado =  6.192\n"
     ]
    }
   ],
   "source": [
    "import numpy as np\n",
    "import matplotlib.pyplot as plt\n",
    "import math\n",
    "canpart=11\n",
    "\n",
    "def ChiCuadrado (x, a, c, secuencia=[]):\n",
    "    \n",
    "    secuencia = []\n",
    "    m = float (math.pow(2,16)+1)\n",
    "    can = 1000\n",
    "    periodo = 0\n",
    "    b1 = 0\n",
    " \n",
    "    while(can != periodo):\n",
    "        if(periodo == 0):\n",
    "            b1 = x\n",
    "        x = (a * x + c) % m\n",
    "        y = x / m\n",
    "        periodo = periodo + 1\n",
    "        secuencia.append(y)\n",
    " \n",
    "    longitud = 1 / float(canpart) \n",
    "    frecuenciasObservadas = []           \n",
    "\n",
    "    for i in range(0,canpart):\n",
    "        frecuenciasObservadas.append(0)\n",
    "    \n",
    "\n",
    "    for i in range(len(secuencia)):\n",
    "        cont = 1\n",
    "        for j in range(0,canpart):     \n",
    "            if secuencia[i] > (cont - 1) * longitud and secuencia[i] <= cont * longitud:\n",
    "                frecuenciasObservadas[j] += 1\n",
    "            cont += 1 \n",
    "    \n",
    "    frecuenciaEsperada = len(secuencia) / float(canpart)\n",
    "    estimado = 0.0\n",
    "        \n",
    "    for i in range(0,canpart):\n",
    "        estimado += (frecuenciasObservadas[i] - frecuenciaEsperada)**2 / frecuenciaEsperada\n",
    "    print 'Valor estimado = ', estimado\n",
    "     \n",
    "def main ():\n",
    "    x = float(raw_input(\"Ingrese el valor de la semilla: \"))\n",
    "    a = float(raw_input(\"Ingrese el valor de la constante multiplicativa: \"))\n",
    "    c = float(raw_input(\"Ingrese el valor de la constante aditiva: \"))\n",
    "    ChiCuadrado(x, a, c, secuencia=[])\n",
    "\n",
    "if __name__ == \"__main__\":\n",
    "    main()"
   ]
  },
  {
   "cell_type": "code",
   "execution_count": null,
   "metadata": {
    "collapsed": true
   },
   "outputs": [],
   "source": []
  }
 ],
 "metadata": {
  "kernelspec": {
   "display_name": "Python 2",
   "language": "python",
   "name": "python2"
  },
  "language_info": {
   "codemirror_mode": {
    "name": "ipython",
    "version": 2
   },
   "file_extension": ".py",
   "mimetype": "text/x-python",
   "name": "python",
   "nbconvert_exporter": "python",
   "pygments_lexer": "ipython2",
   "version": "2.7.11"
  }
 },
 "nbformat": 4,
 "nbformat_minor": 0
}
