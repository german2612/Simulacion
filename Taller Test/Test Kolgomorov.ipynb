{
 "cells": [
  {
   "cell_type": "code",
   "execution_count": 1,
   "metadata": {
    "collapsed": false
   },
   "outputs": [
    {
     "name": "stdout",
     "output_type": "stream",
     "text": [
      "Ingrese el valor de la semilla: 7\n",
      "Ingrese el valor de la constante multiplicativa: 5\n",
      "Ingrese el valor de la constante aditiva: 3\n",
      "Ingrese el valor del modulo: 16\n",
      "Ingrese la cantidad de numeros aleatorios: 1000\n",
      "('De = ', 0.2661816728822598)\n",
      "('D = ', 0.26618167288225947)\n",
      "('p-value = ', 0.0)\n"
     ]
    }
   ],
   "source": [
    "import numpy as np\n",
    "import matplotlib.pyplot as plt\n",
    "import math\n",
    "\n",
    "def Kolgomorov(x, a, b, mod,can):\n",
    "    secuencia=[]\n",
    "    periodo = 0\n",
    "    bandera = 0\n",
    "    while(can != periodo):\n",
    "        if (periodo == 0):\n",
    "            bandera = x\n",
    "        x = (a * x + b) % mod\n",
    "        y = x/mod;\n",
    "        periodo = periodo + 1\n",
    "        secuencia.append(y)\n",
    "        N = len(secuencia)\n",
    "        u = [1.0] * N\n",
    "\n",
    "    count, bins, ignored = plt.hist(secuencia, 25, normed=True)\n",
    "    plt.plot(bins, np.ones_like(bins), linewidth=2, color='r')\n",
    "    plt.show()\n",
    "    \n",
    "    x1 = np.arange(1/float(N), 1+1/float(N) , 1/float(N))\n",
    "    y1 = np.cumsum(np.sort(u)/np.max(np.cumsum(u)))\n",
    "    \n",
    "    x2 = np.sort(secuencia)\n",
    "    y2 = np.cumsum(np.sort(secuencia)/np.max(np.cumsum(secuencia)))\n",
    "    \n",
    "    De=np.absolute(y2-y1)\n",
    "    Graficar(x1, x2, y1, y2, De)\n",
    "    \n",
    "def Graficar(x1, x2, y1, y2, De):  \n",
    "    \n",
    "    plt.plot(x1,y1,label='Uniform')\n",
    "    plt.step(x2,y2,label='Aleatoria')\n",
    "    x3 = [x1[De.argmax()],x1[De.argmax()]]\n",
    "    y3 = [np.min([y1[De.argmax()],y2[De.argmax()]]),np.max([y1[De.argmax()],y2[De.argmax()]])]\n",
    "    plt.step(x3,y3,label='D')\n",
    "    plt.legend()\n",
    "    plt.xlabel('X')\n",
    "    plt.ylabel('Probabilidad Acumulada P(X)')\n",
    "    plt.ylim(0, 1.05)\n",
    "    plt.show()\n",
    "    \n",
    "    from scipy import stats\n",
    "    D,pvalue = stats.kstest(y2, 'uniform')\n",
    "    print(\"De = \",np.max(De))\n",
    "    print(\"D = \", D)\n",
    "    print(\"p-value = \", pvalue)\n",
    "\n",
    "def main():\n",
    "  \n",
    "    x = float(raw_input(\"Ingrese el valor de la semilla: \"))\n",
    "    a = float(raw_input(\"Ingrese el valor de la constante multiplicativa: \"))\n",
    "    b = float(raw_input(\"Ingrese el valor de la constante aditiva: \"))\n",
    "    mod = float(raw_input(\"Ingrese el valor del modulo: \"))\n",
    "    can = int(raw_input(\"Ingrese la cantidad de numeros aleatorios: \"))\n",
    "    Kolgomorov(x, a, b, mod,can)\n",
    "    \n",
    "if __name__ == \"__main__\":\n",
    "    main()"
   ]
  },
  {
   "cell_type": "code",
   "execution_count": null,
   "metadata": {
    "collapsed": true
   },
   "outputs": [],
   "source": []
  }
 ],
 "metadata": {
  "kernelspec": {
   "display_name": "Python 2",
   "language": "python",
   "name": "python2"
  },
  "language_info": {
   "codemirror_mode": {
    "name": "ipython",
    "version": 2
   },
   "file_extension": ".py",
   "mimetype": "text/x-python",
   "name": "python",
   "nbconvert_exporter": "python",
   "pygments_lexer": "ipython2",
   "version": "2.7.11"
  }
 },
 "nbformat": 4,
 "nbformat_minor": 0
}
