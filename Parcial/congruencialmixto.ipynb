{
 "cells": [
  {
   "cell_type": "code",
   "execution_count": null,
   "metadata": {
    "collapsed": true
   },
   "outputs": [],
   "source": [
    "import sys\n",
    " \n",
    "a = int (raw_input(\"Ingrese valor de constante multiplicativa: \"))\n",
    "xo= int (raw_input(\"Ingrese valor de semilla inicial \"))\n",
    "c = int (raw_input(\"Ingrese valor de constante aditiva \"))\n",
    "m = int (raw_input(\"Ingrese valor de modulo \"))\n",
    "xoinicial = xo\n",
    " \n",
    "print 'n   Xo   (aXo + c) modm   Xn + 1   Numero Rectangular '\n",
    " \n",
    "for i in range (m):\n",
    "    i += 1\n",
    "    div = ((a * xo) + c)/m\n",
    "    mod = ((a*xo)+c)%m\n",
    "    nr = float((mod+.0) / (m+.0))\n",
    "    print \"%d   %d     %d  +   %d/%d      %d        %f  \"%(i, xo, div, mod, m, mod, nr)\n",
    "    xo = mod"
   ]
  }
 ],
 "metadata": {
  "kernelspec": {
   "display_name": "Python 2",
   "language": "python",
   "name": "python2"
  },
  "language_info": {
   "codemirror_mode": {
    "name": "ipython",
    "version": 2
   },
   "file_extension": ".py",
   "mimetype": "text/x-python",
   "name": "python",
   "nbconvert_exporter": "python",
   "pygments_lexer": "ipython2",
   "version": "2.7.11"
  }
 },
 "nbformat": 4,
 "nbformat_minor": 0
}
