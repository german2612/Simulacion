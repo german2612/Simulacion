{
 "cells": [
  {
   "cell_type": "code",
   "execution_count": null,
   "metadata": {
    "collapsed": true
   },
   "outputs": [],
   "source": [
    "import sys\n",
    "while True:\n",
    "        opcion = input(\"\\nMENU: \\n1. Para generar numeros. \\n2. Para SALIR.\\n\")\n",
    "        if opcion == 1:\n",
    "                x0 = input(\"\\n\\nIngrese el valor semilla para el primer generador X0 = \")\n",
    "                y0 = input(\"\\n\\nIngrese el valor semilla para el segundo generador  Y0 = \")\n",
    "                z0 = input(\"\\n\\nIngrese el valor semilla para el tercer generador  Z0 = \")\n",
    "                cantidad = input(\"\\nIngrese la cantidad de numeros aleatorios a generar: \")\n",
    "                print \"\\n\"\n",
    "                for i in range(0,cantidad):\n",
    "                    xi = (171*x0)%30269\n",
    "                    #print \"X\" + str(i) + \" = \" + str(xi)\n",
    "                    yi = (172*y0)%30307\n",
    "                    #print \"Y\" + str(i) + \" = \" + str(yi)\n",
    "                    zi = (170*z0)%30323\n",
    "                    #print \"Z\" + str(i) + \" = \" + str(zi)\n",
    "                    ui = (xi/30269.0 + yi/30307.0 + zi/30323.0)%1 \n",
    "                    print \"U\" + str(i) + \" = \" + str(ui)\n",
    "                    x0 = xi\n",
    "                    y0 = yi\n",
    "                    z0 = zi\n",
    "\n",
    "        elif opcion == 2:\n",
    "                sys.exit()\n",
    "\n",
    "        else:\n",
    "                print 'Elija una opcion valida.\\n'"
   ]
  }
 ],
 "metadata": {
  "kernelspec": {
   "display_name": "Python 2",
   "language": "python",
   "name": "python2"
  },
  "language_info": {
   "codemirror_mode": {
    "name": "ipython",
    "version": 2
   },
   "file_extension": ".py",
   "mimetype": "text/x-python",
   "name": "python",
   "nbconvert_exporter": "python",
   "pygments_lexer": "ipython2",
   "version": "2.7.11"
  }
 },
 "nbformat": 4,
 "nbformat_minor": 0
}
