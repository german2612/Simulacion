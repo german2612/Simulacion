{
 "cells": [
  {
   "cell_type": "code",
   "execution_count": null,
   "metadata": {
    "collapsed": true
   },
   "outputs": [],
   "source": [
    "def main():\n",
    "    seed=1\n",
    "    while not (len(str(seed))%2==0):\n",
    "        seed = int(input('enter a seed number of 2n digits: '))\n",
    "    n=int(input('enter how many random numbers you want: '))\n",
    "    \n",
    "    list=[]\n",
    "\n",
    "    x=0\n",
    "    while x < n:\n",
    "        #elevando al cuadrado\n",
    "        square=seed*seed\n",
    "        strsquare=str(square)\n",
    "        #agregando cero a la izq en aso de necesitarlo\n",
    "        if(len(strsquare)%2!=0):\n",
    "            strsquare='0'+strsquare\n",
    "        #obteniendo numero intermedio\n",
    "        lsquare=len(strsquare)\n",
    "        lseed=len(str(seed))\n",
    "        seed=int(strsquare[(lsquare/2)-(lseed/2):(lsquare/2)+(lseed/2)])\n",
    "        list.append(seed)\n",
    "        x=x+1\n",
    "\n",
    "    print list\n",
    "\n",
    "if __name__ == '__main__':\n",
    "    main()"
   ]
  }
 ],
 "metadata": {
  "kernelspec": {
   "display_name": "Python 2",
   "language": "python",
   "name": "python2"
  },
  "language_info": {
   "codemirror_mode": {
    "name": "ipython",
    "version": 2
   },
   "file_extension": ".py",
   "mimetype": "text/x-python",
   "name": "python",
   "nbconvert_exporter": "python",
   "pygments_lexer": "ipython2",
   "version": "2.7.11"
  }
 },
 "nbformat": 4,
 "nbformat_minor": 0
}
