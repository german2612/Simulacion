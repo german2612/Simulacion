{
 "cells": [
  {
   "cell_type": "code",
   "execution_count": 5,
   "metadata": {
    "collapsed": false
   },
   "outputs": [
    {
     "name": "stdout",
     "output_type": "stream",
     "text": [
      "('valorx ', 16.0, ' valoru: ', 0.5517241379310345)\n",
      "('valorx ', 26.0, ' valoru: ', 0.896551724137931)\n",
      "('valorx ', 27.0, ' valoru: ', 0.9310344827586207)\n",
      "('valorx ', 1.0, ' valoru: ', 0.034482758620689655)\n",
      "('valorx ', 10.0, ' valoru: ', 0.3448275862068966)\n",
      "('valorx ', 8.0, ' valoru: ', 0.27586206896551724)\n",
      "('valorx ', 2.0, ' valoru: ', 0.06896551724137931)\n",
      "('valorx ', 13.0, ' valoru: ', 0.4482758620689655)\n",
      "('valorx ', 17.0, ' valoru: ', 0.5862068965517241)\n",
      "('valorx ', 0.0, ' valoru: ', 0.0)\n",
      "('valorx ', 7.0, ' valoru: ', 0.2413793103448276)\n",
      "('valorx ', 28.0, ' valoru: ', 0.9655172413793104)\n",
      "('valorx ', 4.0, ' valoru: ', 0.13793103448275862)\n",
      "('valorx ', 19.0, ' valoru: ', 0.6551724137931034)\n",
      "('valorx ', 6.0, ' valoru: ', 0.20689655172413793)\n",
      "('valorx ', 25.0, ' valoru: ', 0.8620689655172413)\n",
      "('valorx ', 24.0, ' valoru: ', 0.8275862068965517)\n",
      "('valorx ', 21.0, ' valoru: ', 0.7241379310344828)\n",
      "('valorx ', 12.0, ' valoru: ', 0.41379310344827586)\n",
      "('valorx ', 14.0, ' valoru: ', 0.4827586206896552)\n",
      "('periodo incompleto: ', 20)\n",
      "promedio:  0.48275862069\n",
      "sumatoria:  1.89774078478\n",
      "numeros x:  20\n",
      "desviacion:  0.3160397031\n"
     ]
    }
   ],
   "source": [
    "import numpy as np\n",
    "\n",
    "def mixedMethod(x, a, b, mod):\n",
    "    periodo = 0\n",
    "    bandera = 0\n",
    "    v=[]\n",
    "    k=0\n",
    "    while k<20:\n",
    "        if (periodo == 0):\n",
    "            bandera = x\n",
    "        x = (a * x + b) % mod\n",
    "        u = (x/mod) % 1\n",
    "        v.append(u)\n",
    "\n",
    "        print('valorx ',x,' valoru: ',u)\n",
    "        periodo = periodo + 1\n",
    "        k+=1\n",
    "        \n",
    "    if(periodo == mod):\n",
    "        print(\"periodo completo: \", periodo)\n",
    "    else:\n",
    "        print(\"periodo incompleto: \", periodo)\n",
    "\n",
    "    promedio=0\n",
    "    suma=0\n",
    "    for i in v:\n",
    "        suma+=i\n",
    "    promedio=suma/len(v)\n",
    "    print 'promedio: ',promedio\n",
    "\n",
    "    xmedia=promedio\n",
    "    sumatoria=0.0\n",
    "    for xi in v:\n",
    "        sumatoria=sumatoria+(xi-promedio)**2\n",
    "\n",
    "    print 'sumatoria: ',sumatoria\n",
    "    print 'numeros x: ',len(v)\n",
    "    desviacion=np.sqrt((1.0/(len(v)-1.0))*(sumatoria))\n",
    "    print 'desviacion: ',desviacion\n",
    " \n",
    "def main():\n",
    "    x = 3.0 # valor semilla\n",
    "    a = 5.0 # valor de constante a\n",
    "    b = 7.0 # valor de constante b\n",
    "    mod = 29.0 # valor del modulo, preferiblemente impar y numero primo\n",
    "    mixedMethod(x,a,b,mod)\n",
    " \n",
    "if __name__ == \"__main__\":\n",
    "    main()"
   ]
  },
  {
   "cell_type": "code",
   "execution_count": null,
   "metadata": {
    "collapsed": true
   },
   "outputs": [],
   "source": []
  },
  {
   "cell_type": "code",
   "execution_count": null,
   "metadata": {
    "collapsed": true
   },
   "outputs": [],
   "source": []
  }
 ],
 "metadata": {
  "kernelspec": {
   "display_name": "Python 2",
   "language": "python",
   "name": "python2"
  },
  "language_info": {
   "codemirror_mode": {
    "name": "ipython",
    "version": 2
   },
   "file_extension": ".py",
   "mimetype": "text/x-python",
   "name": "python",
   "nbconvert_exporter": "python",
   "pygments_lexer": "ipython2",
   "version": "2.7.11"
  }
 },
 "nbformat": 4,
 "nbformat_minor": 0
}
