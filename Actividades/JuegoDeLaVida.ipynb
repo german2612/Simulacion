{
 "cells": [
  {
   "cell_type": "code",
   "execution_count": null,
   "metadata": {
    "collapsed": true
   },
   "outputs": [],
   "source": [
    "import random\n",
    "import itertools\n",
    "import time\n",
    "\n",
    "\n",
    "class JuegoDeLaVida(object):\n",
    "\n",
    "    def Datos(m, filas, columnas):\n",
    "\n",
    "        m.filas = filas\n",
    "        m.columnas = columnas\n",
    "        fila_vida = lambda: [random.randint(0, 1) for n in range(m.columnas)]\n",
    "        m.juego = [fila_vida() for n in range(m.filas)]\n",
    "\n",
    "    def Grafica(m):\n",
    "\n",
    "        juego = ''\n",
    "        for fila in m.juego:\n",
    "            for celula in fila:\n",
    "                    juego += 'x ' if celula else '. '\n",
    "            juego += '\\n'\n",
    "        return juego\n",
    "\n",
    "    def vecinos(m, nf, nc):\n",
    "\n",
    "        dist_vecinos = list(\n",
    "            set(itertools.permutations([-1, -1, 1, 1, 0], 2))\n",
    "            )\n",
    "        fuera_de_juego = lambda x, y: not (x in range(m.filas) and y in range(m.columnas))\n",
    "        vecinos = 0\n",
    "        for dist_fila, dist_columna in dist_vecinos:\n",
    "                if not fuera_de_juego(nf + dist_fila, nc + dist_columna):\n",
    "                        vecinos += 1 if m.juego[nf + dist_fila][nc + dist_columna] else 0\n",
    "        return vecinos\n",
    "\n",
    "    def recorrer(m):\n",
    "\n",
    "            for nf in range(m.filas):\n",
    "                    for nc in range(m.columnas):\n",
    "                            vecinos = m.vecinos(nf, nc)\n",
    "\n",
    "                            if vecinos < 2 or vecinos > 3:\n",
    "                                    m.juego[nf][nc] = 0\n",
    "                            elif vecinos == 3:\n",
    "                                    m.juego[nf][nc] = 1\n",
    "\n",
    "    def main():\n",
    "            filas = int (raw_input(\"Ingrese cantidad de filas: \"))\n",
    "            columnas = int (raw_input(\"Ingrese cantidad de columnas \"))\n",
    "            juego = JuegoDeLaVida(filas, columnas)\n",
    "            print(juego)\n",
    "            juego.recorrer()\n",
    "            time.sleep(2)\n",
    "\n",
    "    if __name__ == '__main__':\n",
    "        main()"
   ]
  }
 ],
 "metadata": {
  "kernelspec": {
   "display_name": "Python 2",
   "language": "python",
   "name": "python2"
  },
  "language_info": {
   "codemirror_mode": {
    "name": "ipython",
    "version": 2
   },
   "file_extension": ".py",
   "mimetype": "text/x-python",
   "name": "python",
   "nbconvert_exporter": "python",
   "pygments_lexer": "ipython2",
   "version": "2.7.11"
  }
 },
 "nbformat": 4,
 "nbformat_minor": 0
}
