{
 "cells": [
  {
   "cell_type": "code",
   "execution_count": 1,
   "metadata": {
    "collapsed": false
   },
   "outputs": [
    {
     "name": "stdout",
     "output_type": "stream",
     "text": [
      "Ingrese un numero cantidad de digitos par: 2\n",
      "Ingrese un numero cantidad de digitos par: 4\n",
      "Ingrese un numero cantidad de digitos par: 6\n",
      "Ingrese un numero cantidad de digitos par: 10\n",
      "Cantidad de numeros a generar: 5\n",
      "[10, 10, 10, 10, 10]\n"
     ]
    }
   ],
   "source": [
    "def main():\n",
    "    semilla = input(\"Ingrese el valor de la semilla (CANTIDAD DIGITOS PAR): \")\n",
    "    if (str(semilla).__len__()==2):\n",
    "        cantidad = int(input(\"Cantidad de numeros a generar: \"))\n",
    "        resultado = []\n",
    "        t = len(str(semilla))\n",
    "        for i in range(cantidad):\n",
    "            num = semilla ** 2\n",
    "            final = str(num)\n",
    "            if (len(str(num)) < t * 2):\n",
    "                for i in range((t * 2) - len(str(num))): \n",
    "                    final = \"0\" + final\n",
    "            rangTemp = int(t)/2\n",
    "            if semilla == int(final[rangTemp:-rangTemp]):\n",
    "                semilla = 1 + (int(final[rangTemp:-rangTemp]) / 2) \n",
    "            else:\n",
    "                if (len(str(num)) <= t): \n",
    "                    semilla = num \n",
    "                else:\n",
    "                    semilla = int(final[rangTemp:-rangTemp]) \n",
    "            n = float(semilla) / float(10 ** t) \n",
    "            resultado += [n]\n",
    "        print '\\n'.join(map(str, resultado))\n",
    "    else:\n",
    "        print (\"Error! Digite una semilla valida, CANTIDAD DE DIGITOS INCORRECTOS\\n\")\n",
    "        main()\n",
    "    \n",
    "if __name__ == \"__main__\":\n",
    "    main()"
   ]
  },
  {
   "cell_type": "code",
   "execution_count": null,
   "metadata": {
    "collapsed": true
   },
   "outputs": [],
   "source": []
  }
 ],
 "metadata": {
  "kernelspec": {
   "display_name": "Python 2",
   "language": "python",
   "name": "python2"
  },
  "language_info": {
   "codemirror_mode": {
    "name": "ipython",
    "version": 2
   },
   "file_extension": ".py",
   "mimetype": "text/x-python",
   "name": "python",
   "nbconvert_exporter": "python",
   "pygments_lexer": "ipython2",
   "version": "2.7.11"
  }
 },
 "nbformat": 4,
 "nbformat_minor": 0
}
