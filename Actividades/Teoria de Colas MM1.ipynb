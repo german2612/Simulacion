{
 "cells": [
  {
   "cell_type": "code",
   "execution_count": 1,
   "metadata": {
    "collapsed": false
   },
   "outputs": [
    {
     "name": "stdout",
     "output_type": "stream",
     "text": [
      "Tasa de llegada = 4\n",
      "Tasa de servicio = 6\n",
      "Uso del sistema (P):  66.6666666667 %\n",
      "Cantidad de personas en el sistema (Ls):  2.0\n",
      "Cantidad de tiempo en el sistema (Ws):  0.5\n",
      "Cantidad de personas en la cola (Lq):  1.33333333333\n",
      "Cantidad de tiempo en la cola (Wq):  0.333333333333\n",
      "Probabilidad en el cual el servidor está ocioso(Po):  33.3333333333 %\n"
     ]
    }
   ],
   "source": [
    "landa = float(input(\"Tasa de llegada = \"))\n",
    "miu = float(input(\"Tasa de servicio = \"))\n",
    "#n = int(input(\"numero de clientes\"))\n",
    "#Si la tasa de llegada es mayor a la tasa del servicio, sistema inestable\n",
    "\n",
    "p = float(0)\n",
    "ls = float(0)\n",
    "ws = float(0)\n",
    "lq = float(0)\n",
    "wq = float(0)\n",
    "po = float(0)\n",
    "\n",
    "p = landa / miu\n",
    "ls = landa / (miu - landa)\n",
    "ws = 1 / (miu - landa)\n",
    "lq = (landa*landa)/(miu*(miu - landa))\n",
    "wq = landa / (miu*(miu - landa))\n",
    "po = 1 - p \n",
    "#pn = (1 - (landa/miu))*((landa/miu)**n)\n",
    "    \n",
    "print \"Uso del sistema (P): \",(p*100),\"%\"\n",
    "print \"Cantidad de personas en el sistema (Ls): \",ls\n",
    "print \"Cantidad de tiempo en el sistema (Ws): \",ws\n",
    "print \"Cantidad de personas en la cola (Lq): \",lq\n",
    "print \"Cantidad de tiempo en la cola (Wq): \",wq\n",
    "print \"Probabilidad en el cual el servidor está ocioso(Po): \",(po*100),\"%\"\n",
    "#print \"Probabilidad de que se encuentren 'n' clientes en el sistema (Pn): \",(pn*100),\"%\""
   ]
  },
  {
   "cell_type": "code",
   "execution_count": null,
   "metadata": {
    "collapsed": true
   },
   "outputs": [],
   "source": []
  }
 ],
 "metadata": {
  "kernelspec": {
   "display_name": "Python 2",
   "language": "python",
   "name": "python2"
  },
  "language_info": {
   "codemirror_mode": {
    "name": "ipython",
    "version": 2
   },
   "file_extension": ".py",
   "mimetype": "text/x-python",
   "name": "python",
   "nbconvert_exporter": "python",
   "pygments_lexer": "ipython2",
   "version": "2.7.11"
  }
 },
 "nbformat": 4,
 "nbformat_minor": 0
}
