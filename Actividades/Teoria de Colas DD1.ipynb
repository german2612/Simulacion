{
 "cells": [
  {
   "cell_type": "code",
   "execution_count": null,
   "metadata": {
    "collapsed": true
   },
   "outputs": [],
   "source": [
    "import numpy as np\n",
    "import matplotlib.pyplot as plt\n",
    "from collections import deque\n",
    "\n",
    "l=int(input('Ingrese la tasa de llegadas (landa): '))\n",
    "m=int(input('Ingrese la tasa de servicios (miu): '))\n",
    "t=int(input('Ingrese el numero de tiempos que quiere simular: '))\n",
    "queed=deque([])\n",
    "atendidos=deque([])\n",
    "elemento=1\n",
    "for i in range(0,t):\n",
    "    for k in range(0,l):\n",
    "        queed.append(\"Elemento \"+str(elemento))\n",
    "        elemento=elemento+1\n",
    "    for k in range(0,m):\n",
    "        atendidos.append(queed.popleft())\n",
    "    print(\"\\nTIEMPO \"+str(i+1))\n",
    "    print(\"\\nqueed\")\n",
    "    for k in range(0,len(queed)):\n",
    "        print(queed[k])\n",
    "    print(\"\\nAtendidos\")\n",
    "    for k in range(0,len(atendidos)):\n",
    "        print(atendidos[k])\n",
    "print(\"\\nTotal en queed: \"+str(len(queed))+\" Total atendidos: \"+str(len(atendidos)))"
   ]
  }
 ],
 "metadata": {
  "kernelspec": {
   "display_name": "Python 2",
   "language": "python",
   "name": "python2"
  },
  "language_info": {
   "codemirror_mode": {
    "name": "ipython",
    "version": 2
   },
   "file_extension": ".py",
   "mimetype": "text/x-python",
   "name": "python",
   "nbconvert_exporter": "python",
   "pygments_lexer": "ipython2",
   "version": "2.7.11"
  }
 },
 "nbformat": 4,
 "nbformat_minor": 0
}
