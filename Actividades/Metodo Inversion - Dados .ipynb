{
 "cells": [
  {
   "cell_type": "code",
   "execution_count": 1,
   "metadata": {
    "collapsed": false
   },
   "outputs": [
    {
     "name": "stdout",
     "output_type": "stream",
     "text": [
      "[5.0387447491889255, -3.8610076247570713, 3.0651565750484422, 12.512934243445734, 2.1893342797458368, 6.0984176349268164, 10.09040924721832, 9.3181070866529758, 2.7263422785246658, -10.755436073152628]\n"
     ]
    }
   ],
   "source": [
    "import numpy as np\n",
    "import matplotlib.pyplot as plt\n",
    "from scipy.integrate import quad\n",
    "\n",
    "def mixedMethod1(x1,mod1):\n",
    "    a1 = 171\n",
    "    b1 = 0\n",
    "    x1 = (a1 * x1 + b1) % mod1\n",
    "    return x1\n",
    "\n",
    "def mixedMethod2(x2,mod2):\n",
    "    a2 = 172\n",
    "    b2 = 0\n",
    "    x2 = (a2 * x2 + b2) % mod2\n",
    "    return x2\n",
    "\n",
    "def mixedMethod3(x3,mod3):\n",
    "    a3 = 170\n",
    "    b3 = 0\n",
    "    x3 = (a3 * x3 + b3) % mod3\n",
    "    return x3\n",
    "\n",
    "def valorU(x1,y1,z1,mod1,mod2,mod3):\n",
    "\n",
    "    u=((x1/mod1) + (y1/mod2) + (z1/mod3)) % 1\n",
    "    return u\n",
    "\n",
    "def random_list(cantidad):\n",
    "    mod1=30269.0\n",
    "    mod2=30307.0\n",
    "    mod3=30323.0\n",
    "\n",
    "    x1 = 15.0\n",
    "    x2 = 27.0\n",
    "    x3 = 76.0\n",
    "    u=[]\n",
    "    while cantidad>0:\n",
    "        x1=mixedMethod1(x1,mod1)\n",
    "        x2=mixedMethod2(x2,mod2)\n",
    "        x3=mixedMethod3(x3,mod3)\n",
    "        v=valorU(x1,x2,x3,mod1,mod2,mod3)\n",
    "        u.append(v)\n",
    "        cantidad = cantidad-1\n",
    "    return u\n",
    "\n",
    "from scipy.integrate import quad\n",
    "\n",
    "def integrand(t,x):\n",
    "    return np.exp(-(t**2))\n",
    "\n",
    "def invErrorFunction(x):\n",
    "    I = quad(integrand, 0, x, args=(x))[0]\n",
    "    resultado= (2/np.sqrt(np.pi))*(1/I)\n",
    "    return resultado\n",
    "\n",
    "def normal_inversa(cantidad,media,varianza):\n",
    "    aleatorios=random_list(cantidad)\n",
    "    valor=0.0\n",
    "    resultado=[]\n",
    "    for x in range(cantidad):\n",
    "        valor= media + (varianza * np.sqrt(2)*invErrorFunction(2*aleatorios[x]-1))\n",
    "        resultado.append(valor)\n",
    "    return resultado\n",
    "\n",
    "def main():\n",
    "\n",
    "    cantidad = 10\n",
    "    media=0.0\n",
    "    varianza= 1.0\n",
    "    resultado=[]\n",
    "    resultado=normal_inversa(cantidad, media, varianza)\n",
    "    print (resultado)\n",
    "\n",
    "if __name__ == \"__main__\":\n",
    "    main()"
   ]
  },
  {
   "cell_type": "code",
   "execution_count": null,
   "metadata": {
    "collapsed": true
   },
   "outputs": [],
   "source": []
  }
 ],
 "metadata": {
  "kernelspec": {
   "display_name": "Python 2",
   "language": "python",
   "name": "python2"
  },
  "language_info": {
   "codemirror_mode": {
    "name": "ipython",
    "version": 2
   },
   "file_extension": ".py",
   "mimetype": "text/x-python",
   "name": "python",
   "nbconvert_exporter": "python",
   "pygments_lexer": "ipython2",
   "version": "2.7.11"
  }
 },
 "nbformat": 4,
 "nbformat_minor": 0
}
