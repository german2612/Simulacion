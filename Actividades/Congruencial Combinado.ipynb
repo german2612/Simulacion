{
 "cells": [
  {
   "cell_type": "code",
   "execution_count": 2,
   "metadata": {
    "collapsed": false
   },
   "outputs": [
    {
     "name": "stdout",
     "output_type": "stream",
     "text": [
      "Ingrese el valor semilla para el 1 generador X = 5\n",
      "Ingrese el valor semilla para el 2 generador Y = 6\n",
      "Ingrese el valor semilla para el 3 generador Z = 10\n",
      "Ingrese la cantidad de numeros a generar = \n"
     ]
    },
    {
     "ename": "SyntaxError",
     "evalue": "unexpected EOF while parsing (<string>, line 0)",
     "output_type": "error",
     "traceback": [
      "\u001b[1;36m  File \u001b[1;32m\"<string>\"\u001b[1;36m, line \u001b[1;32munknown\u001b[0m\n\u001b[1;33m    \u001b[0m\n\u001b[1;37m    ^\u001b[0m\n\u001b[1;31mSyntaxError\u001b[0m\u001b[1;31m:\u001b[0m unexpected EOF while parsing\n"
     ]
    }
   ],
   "source": [
    "import sys\n",
    "x = input(\"Ingrese el valor semilla para el 1 generador X = \")\n",
    "y = input(\"Ingrese el valor semilla para el 2 generador Y = \")\n",
    "z = input(\"Ingrese el valor semilla para el 3 generador Z = \")\n",
    "cantidad = input(\"Ingrese la cantidad de numeros a generar = \")\n",
    "for i in range(0,cantidad):\n",
    "    xi = (171*x)%30269\n",
    "    #print \"X\" + str(i) + \" = \" + str(xi)\n",
    "    yi = (172*y)%30307\n",
    "    #print \"Y\" + str(i) + \" = \" + str(yi)\n",
    "    zi = (170*z)%30323\n",
    "    #print \"Z\" + str(i) + \" = \" + str(zi)\n",
    "    ui = (xi/30269.0 + yi/30307.0 + zi/30323.0)%1 \n",
    "    print \"N\" + str(i) + \" = \" + str(ui)\n",
    "    x = xi\n",
    "    y = yi\n",
    "    z = zi"
   ]
  },
  {
   "cell_type": "code",
   "execution_count": null,
   "metadata": {
    "collapsed": true
   },
   "outputs": [],
   "source": []
  }
 ],
 "metadata": {
  "kernelspec": {
   "display_name": "Python 2",
   "language": "python",
   "name": "python2"
  },
  "language_info": {
   "codemirror_mode": {
    "name": "ipython",
    "version": 2
   },
   "file_extension": ".py",
   "mimetype": "text/x-python",
   "name": "python",
   "nbconvert_exporter": "python",
   "pygments_lexer": "ipython2",
   "version": "2.7.11"
  }
 },
 "nbformat": 4,
 "nbformat_minor": 0
}
