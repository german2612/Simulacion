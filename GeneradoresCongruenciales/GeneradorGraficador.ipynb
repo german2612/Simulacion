{
 "cells": [
  {
   "cell_type": "code",
   "execution_count": null,
   "metadata": {
    "collapsed": true
   },
   "outputs": [],
   "source": [
    "import sys\n",
    "from matplotlib.pylab import hist, show\n",
    "\n",
    "a=0\n",
    "xo=0\n",
    "c=0\n",
    "m=0\n",
    "cantidad=0\n",
    "datos=[]\n",
    " \n",
    "def Operaciones(a,xo,c,m,cantidad):\n",
    "    print 'n   Xo   (aXo + c) modm   Xn + 1   Numero Rectangular '\n",
    "    for i in range (0,cantidad,1):\n",
    "        i += 1\n",
    "        div = ((a * xo) + c)/m\n",
    "        mod = ((a*xo)+c)%m\n",
    "        nr = float((mod+.0) / (m+.0))\n",
    "        print \"%d   %d     %d  +   %d/%d      %d        %f  \"%(i, xo, div, mod, m, mod, nr)\n",
    "        xo = mod\n",
    "        datos.append(nr)\n",
    "    hist(datos,cantidad, (0,1))\n",
    "    show()\n",
    "\n",
    "def main():\n",
    "\n",
    "    a = int (raw_input(\"Ingrese valor de constante multiplicativa: \"))\n",
    "    xo= int (raw_input(\"Ingrese valor de semilla inicial \"))\n",
    "    c = int (raw_input(\"Ingrese valor de constante aditiva \"))\n",
    "    m = int (raw_input(\"Ingrese valor de modulo \"))\n",
    "    cantidad = int(input(\"Cantidad: \"))\n",
    "    xoinicial = xo\n",
    "    Operaciones(a,xo,c,m,cantidad)\n",
    "\n",
    "if __name__ == \"__main__\":\n",
    "    main()"
   ]
  }
 ],
 "metadata": {
  "kernelspec": {
   "display_name": "Python 2",
   "language": "python",
   "name": "python2"
  },
  "language_info": {
   "codemirror_mode": {
    "name": "ipython",
    "version": 2
   },
   "file_extension": ".py",
   "mimetype": "text/x-python",
   "name": "python",
   "nbconvert_exporter": "python",
   "pygments_lexer": "ipython2",
   "version": "2.7.11"
  }
 },
 "nbformat": 4,
 "nbformat_minor": 0
}
